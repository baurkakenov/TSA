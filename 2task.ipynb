{
 "cells": [
  {
   "cell_type": "code",
   "execution_count": 32,
   "metadata": {},
   "outputs": [],
   "source": [
    "import numpy as np\n",
    "from math import *"
   ]
  },
  {
   "cell_type": "code",
   "execution_count": 33,
   "metadata": {},
   "outputs": [],
   "source": [
    "def Teta(z):\n",
    "    return 0 if z < 0 else 1"
   ]
  },
  {
   "cell_type": "code",
   "execution_count": 34,
   "metadata": {},
   "outputs": [],
   "source": [
    "def p(k, n1, n2, x):\n",
    "    d = np.array([(x[n1-k+i]-x[n2-k+i])**2 for i in range(k)])\n",
    "    return np.sqrt(np.sum(d))"
   ]
  },
  {
   "cell_type": "code",
   "execution_count": 35,
   "metadata": {},
   "outputs": [],
   "source": [
    "def Ck(k, l, N, x):\n",
    "    s = 0\n",
    "    for i in range(N-k,N):\n",
    "        for j in range(N-k,N):\n",
    "            s += Teta(l-p(k, i, j, x))\n",
    "    return (1 / N**2) * s\n"
   ]
  },
  {
   "cell_type": "code",
   "execution_count": 36,
   "metadata": {},
   "outputs": [],
   "source": [
    "def dc(k, l, N, x):\n",
    "    return log(Ck(k, l, N, x))/log(l)"
   ]
  },
  {
   "cell_type": "code",
   "execution_count": 37,
   "metadata": {},
   "outputs": [
    {
     "name": "stdout",
     "output_type": "stream",
     "text": [
      "2.8494850021680094\n",
      "2.761439372640169\n",
      "2.6989700043360187\n",
      "2.650514997831991\n",
      "2.6109243748081785\n",
      "2.5774509799928715\n",
      "2.548455006504028\n",
      "2.522878745280338\n"
     ]
    }
   ],
   "source": [
    "a = 2\n",
    "b = 2\n",
    "dt = 1e-2\n",
    "N = 1000\n",
    "l = 1e-2\n",
    "x = [a*cos(dt*i) for i in range(N)]\n",
    "y = [a*sin(dt*i) for i in range(N)]\n",
    "for k in range(2, 10):\n",
    "    d = dc(k, l, N, x)\n",
    "    print(d)"
   ]
  },
  {
   "cell_type": "code",
   "execution_count": null,
   "metadata": {},
   "outputs": [],
   "source": []
  },
  {
   "cell_type": "code",
   "execution_count": null,
   "metadata": {},
   "outputs": [],
   "source": []
  }
 ],
 "metadata": {
  "kernelspec": {
   "display_name": "Python 3",
   "language": "python",
   "name": "python3"
  },
  "language_info": {
   "codemirror_mode": {
    "name": "ipython",
    "version": 3
   },
   "file_extension": ".py",
   "mimetype": "text/x-python",
   "name": "python",
   "nbconvert_exporter": "python",
   "pygments_lexer": "ipython3",
   "version": "3.7.3"
  }
 },
 "nbformat": 4,
 "nbformat_minor": 2
}
