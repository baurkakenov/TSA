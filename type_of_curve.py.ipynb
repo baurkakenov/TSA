{
 "cells": [
  {
   "cell_type": "code",
   "execution_count": 43,
   "metadata": {},
   "outputs": [],
   "source": [
    "from math import sqrt"
   ]
  },
  {
   "cell_type": "code",
   "execution_count": 78,
   "metadata": {
    "scrolled": true
   },
   "outputs": [],
   "source": [
    "x1, y1 = 0, 0 \n",
    "x2, y2 = 2, 4 \n",
    "x3, y3 = -2, 4 \n",
    "curve = 3"
   ]
  },
  {
   "cell_type": "code",
   "execution_count": 79,
   "metadata": {},
   "outputs": [],
   "source": [
    "def func(i):\n",
    "    return {1: ellipse, 2: hyperbola, 3:parabola}.get(i, 'error')"
   ]
  },
  {
   "cell_type": "code",
   "execution_count": 82,
   "metadata": {},
   "outputs": [],
   "source": [
    "def ellipse(x1, y1, x2, y2):\n",
    "    try:\n",
    "        b = sqrt((x1*x1*y2*y2-x2*x2*y1*y1)/(x1*x1-x2*x2))\n",
    "        a = sqrt(b*b*x1*x1/(b*b-y1*y1))\n",
    "    except Exception:\n",
    "        print('Incorrect points.')\n",
    "    else:\n",
    "        return a, b\n"
   ]
  },
  {
   "cell_type": "code",
   "execution_count": 81,
   "metadata": {},
   "outputs": [],
   "source": [
    "def hyperbola(x1, y1, x2, y2):\n",
    "    try:\n",
    "        b = sqrt((x1*x1*y2*y2-x2*x2*y1*y1)/(x1*x1+x2*x2))\n",
    "        a = sqrt(b*b*x1*x1/(b*b+y1*y1))\n",
    "    except Exception:\n",
    "        print('Incorrect points.')\n",
    "    else:\n",
    "        return a, b"
   ]
  },
  {
   "cell_type": "code",
   "execution_count": 80,
   "metadata": {},
   "outputs": [],
   "source": [
    "def parabola(x1, y1, x2, y2, x3, y3):\n",
    "    try:\n",
    "        a = (y3-(x3*(y2-y1)+x2*y1-x1*y2)/(x2-x1))/(x3*(x3-x1-x2)+x1*x2)\n",
    "        b = (y2-y1)/(x2-x1)-a*(x1+x2)\n",
    "        c = (x2*y1-x1*y2)/(x2-x1)+a*x1*x2\n",
    "    except Exception:\n",
    "        print('Incorrect points.')\n",
    "    else:\n",
    "        return a, b, c\n"
   ]
  },
  {
   "cell_type": "code",
   "execution_count": 83,
   "metadata": {},
   "outputs": [
    {
     "name": "stdout",
     "output_type": "stream",
     "text": [
      "y =  1.0 * x^2 +  0.0 * x +  0.0\n"
     ]
    }
   ],
   "source": [
    "if curve == 1:\n",
    "    a, b = ellipse(x1, y1, x2, y2)\n",
    "    print(\"x^2 /\", a*a, \"+ y^2 /\", b*b, \"= 1\")\n",
    "elif curve == 2:\n",
    "    a, b = hyperbola(x1, y1, x2, y2, x3, y3)\n",
    "    print(\"x^2 /\", a*a, \"- y^2 /\", b*b, \"= 1\")\n",
    "elif curve == 3:\n",
    "    a, b, c = parabola(x1, y1, x2, y2, x3, y3)\n",
    "    print(\"y = \", a , \"* x^2 + \", b, \"* x + \", c)\n",
    "    "
   ]
  }
 ],
 "metadata": {
  "kernelspec": {
   "display_name": "Python 3",
   "language": "python",
   "name": "python3"
  },
  "language_info": {
   "codemirror_mode": {
    "name": "ipython",
    "version": 3
   },
   "file_extension": ".py",
   "mimetype": "text/x-python",
   "name": "python",
   "nbconvert_exporter": "python",
   "pygments_lexer": "ipython3",
   "version": "3.7.3"
  }
 },
 "nbformat": 4,
 "nbformat_minor": 2
}
